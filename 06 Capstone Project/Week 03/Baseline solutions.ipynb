{
 "cells": [
  {
   "cell_type": "markdown",
   "metadata": {},
   "source": [
    "# Построение базовых решений"
   ]
  },
  {
   "cell_type": "markdown",
   "metadata": {},
   "source": [
    "Мы построим три базовые модели и сравним их качество по кросс-валидации. В качестве базовых моделей выбраны:\n",
    "* логистическая регрессия\n",
    "* случайный лес\n",
    "* градиентный бустинг\n",
    "\n",
    "Все модели используют параметры по умолчанию, случайный лес и градиентный бустинг построены на 100 деревьях. В качестве датасета используется 80% наблюдений, разбиение ведется на 4 фолда, пропорции классов сохранены. Для базовых моделей используются только числовые признаки, пропущенные значения заменены нулем для логистической регрессии и большим числом для случайного леса и градиентного бустинга. Для логистической регрессии сделано масштабирование признаков."
   ]
  },
  {
   "cell_type": "code",
   "execution_count": 7,
   "metadata": {
    "collapsed": true
   },
   "outputs": [],
   "source": [
    "#importing libraries\n",
    "import pandas as pd\n",
    "import numpy as np\n",
    "from sklearn.preprocessing import StandardScaler\n",
    "from sklearn.model_selection import StratifiedKFold, cross_val_score\n",
    "from sklearn.linear_model import LogisticRegression\n",
    "from sklearn.ensemble import RandomForestClassifier, GradientBoostingClassifier\n",
    "from sklearn.metrics import accuracy_score, recall_score, precision_score, auc, confusion_matrix"
   ]
  },
  {
   "cell_type": "code",
   "execution_count": 2,
   "metadata": {
    "collapsed": false
   },
   "outputs": [
    {
     "name": "stdout",
     "output_type": "stream",
     "text": [
      "(32000, 231)\n"
     ]
    },
    {
     "data": {
      "text/html": [
       "<div>\n",
       "<table border=\"1\" class=\"dataframe\">\n",
       "  <thead>\n",
       "    <tr style=\"text-align: right;\">\n",
       "      <th></th>\n",
       "      <th>Var1</th>\n",
       "      <th>Var2</th>\n",
       "      <th>Var3</th>\n",
       "      <th>Var4</th>\n",
       "      <th>Var5</th>\n",
       "      <th>Var6</th>\n",
       "      <th>Var7</th>\n",
       "      <th>Var8</th>\n",
       "      <th>Var9</th>\n",
       "      <th>Var10</th>\n",
       "      <th>...</th>\n",
       "      <th>Var222</th>\n",
       "      <th>Var223</th>\n",
       "      <th>Var224</th>\n",
       "      <th>Var225</th>\n",
       "      <th>Var226</th>\n",
       "      <th>Var227</th>\n",
       "      <th>Var228</th>\n",
       "      <th>Var229</th>\n",
       "      <th>Var230</th>\n",
       "      <th>Churn</th>\n",
       "    </tr>\n",
       "  </thead>\n",
       "  <tbody>\n",
       "    <tr>\n",
       "      <th>0</th>\n",
       "      <td>NaN</td>\n",
       "      <td>NaN</td>\n",
       "      <td>NaN</td>\n",
       "      <td>NaN</td>\n",
       "      <td>NaN</td>\n",
       "      <td>0.0</td>\n",
       "      <td>0.0</td>\n",
       "      <td>NaN</td>\n",
       "      <td>NaN</td>\n",
       "      <td>NaN</td>\n",
       "      <td>...</td>\n",
       "      <td>VOHAgOW</td>\n",
       "      <td>LM8l689qOp</td>\n",
       "      <td>NaN</td>\n",
       "      <td>NaN</td>\n",
       "      <td>Xa3G</td>\n",
       "      <td>RAYp</td>\n",
       "      <td>F2FyR07IdsN7I</td>\n",
       "      <td>NaN</td>\n",
       "      <td>NaN</td>\n",
       "      <td>-1</td>\n",
       "    </tr>\n",
       "    <tr>\n",
       "      <th>1</th>\n",
       "      <td>NaN</td>\n",
       "      <td>NaN</td>\n",
       "      <td>NaN</td>\n",
       "      <td>NaN</td>\n",
       "      <td>0.0</td>\n",
       "      <td>NaN</td>\n",
       "      <td>NaN</td>\n",
       "      <td>NaN</td>\n",
       "      <td>NaN</td>\n",
       "      <td>0.0</td>\n",
       "      <td>...</td>\n",
       "      <td>Vo68gbh</td>\n",
       "      <td>NaN</td>\n",
       "      <td>NaN</td>\n",
       "      <td>NaN</td>\n",
       "      <td>fKCe</td>\n",
       "      <td>RAYp</td>\n",
       "      <td>F2FyR07IdsN7I</td>\n",
       "      <td>NaN</td>\n",
       "      <td>NaN</td>\n",
       "      <td>-1</td>\n",
       "    </tr>\n",
       "    <tr>\n",
       "      <th>2</th>\n",
       "      <td>NaN</td>\n",
       "      <td>NaN</td>\n",
       "      <td>NaN</td>\n",
       "      <td>NaN</td>\n",
       "      <td>NaN</td>\n",
       "      <td>203.0</td>\n",
       "      <td>0.0</td>\n",
       "      <td>NaN</td>\n",
       "      <td>NaN</td>\n",
       "      <td>NaN</td>\n",
       "      <td>...</td>\n",
       "      <td>NnYzgmc</td>\n",
       "      <td>NaN</td>\n",
       "      <td>NaN</td>\n",
       "      <td>NaN</td>\n",
       "      <td>Qu4f</td>\n",
       "      <td>RAYp</td>\n",
       "      <td>F2FyR07IdsN7I</td>\n",
       "      <td>NaN</td>\n",
       "      <td>NaN</td>\n",
       "      <td>-1</td>\n",
       "    </tr>\n",
       "    <tr>\n",
       "      <th>3</th>\n",
       "      <td>NaN</td>\n",
       "      <td>NaN</td>\n",
       "      <td>NaN</td>\n",
       "      <td>NaN</td>\n",
       "      <td>NaN</td>\n",
       "      <td>105.0</td>\n",
       "      <td>0.0</td>\n",
       "      <td>NaN</td>\n",
       "      <td>NaN</td>\n",
       "      <td>NaN</td>\n",
       "      <td>...</td>\n",
       "      <td>ygD7j0h</td>\n",
       "      <td>LM8l689qOp</td>\n",
       "      <td>NaN</td>\n",
       "      <td>NaN</td>\n",
       "      <td>5Acm</td>\n",
       "      <td>RAYp</td>\n",
       "      <td>F2FyR07IdsN7I</td>\n",
       "      <td>NaN</td>\n",
       "      <td>NaN</td>\n",
       "      <td>-1</td>\n",
       "    </tr>\n",
       "    <tr>\n",
       "      <th>4</th>\n",
       "      <td>NaN</td>\n",
       "      <td>NaN</td>\n",
       "      <td>NaN</td>\n",
       "      <td>NaN</td>\n",
       "      <td>NaN</td>\n",
       "      <td>84.0</td>\n",
       "      <td>0.0</td>\n",
       "      <td>NaN</td>\n",
       "      <td>NaN</td>\n",
       "      <td>NaN</td>\n",
       "      <td>...</td>\n",
       "      <td>smo7DIf</td>\n",
       "      <td>LM8l689qOp</td>\n",
       "      <td>NaN</td>\n",
       "      <td>NaN</td>\n",
       "      <td>WqMG</td>\n",
       "      <td>RAYp</td>\n",
       "      <td>F2FyR07IdsN7I</td>\n",
       "      <td>NaN</td>\n",
       "      <td>NaN</td>\n",
       "      <td>-1</td>\n",
       "    </tr>\n",
       "  </tbody>\n",
       "</table>\n",
       "<p>5 rows × 231 columns</p>\n",
       "</div>"
      ],
      "text/plain": [
       "   Var1  Var2  Var3  Var4  Var5   Var6  Var7  Var8  Var9  Var10  ...    \\\n",
       "0   NaN   NaN   NaN   NaN   NaN    0.0   0.0   NaN   NaN    NaN  ...     \n",
       "1   NaN   NaN   NaN   NaN   0.0    NaN   NaN   NaN   NaN    0.0  ...     \n",
       "2   NaN   NaN   NaN   NaN   NaN  203.0   0.0   NaN   NaN    NaN  ...     \n",
       "3   NaN   NaN   NaN   NaN   NaN  105.0   0.0   NaN   NaN    NaN  ...     \n",
       "4   NaN   NaN   NaN   NaN   NaN   84.0   0.0   NaN   NaN    NaN  ...     \n",
       "\n",
       "    Var222      Var223  Var224  Var225  Var226  Var227         Var228  Var229  \\\n",
       "0  VOHAgOW  LM8l689qOp     NaN     NaN    Xa3G    RAYp  F2FyR07IdsN7I     NaN   \n",
       "1  Vo68gbh         NaN     NaN     NaN    fKCe    RAYp  F2FyR07IdsN7I     NaN   \n",
       "2  NnYzgmc         NaN     NaN     NaN    Qu4f    RAYp  F2FyR07IdsN7I     NaN   \n",
       "3  ygD7j0h  LM8l689qOp     NaN     NaN    5Acm    RAYp  F2FyR07IdsN7I     NaN   \n",
       "4  smo7DIf  LM8l689qOp     NaN     NaN    WqMG    RAYp  F2FyR07IdsN7I     NaN   \n",
       "\n",
       "   Var230  Churn  \n",
       "0     NaN     -1  \n",
       "1     NaN     -1  \n",
       "2     NaN     -1  \n",
       "3     NaN     -1  \n",
       "4     NaN     -1  \n",
       "\n",
       "[5 rows x 231 columns]"
      ]
     },
     "execution_count": 2,
     "metadata": {},
     "output_type": "execute_result"
    }
   ],
   "source": [
    "#importing dataset\n",
    "df = pd.read_csv('train_churn.csv', header = 0)\n",
    "print(df.shape)\n",
    "df.head()"
   ]
  },
  {
   "cell_type": "code",
   "execution_count": 3,
   "metadata": {
    "collapsed": true
   },
   "outputs": [],
   "source": [
    "#creation of models and folds\n",
    "scaler = StandardScaler()\n",
    "skf = StratifiedKFold(n_splits = 4, shuffle = True, random_state = 147)\n",
    "lr_class = LogisticRegression()\n",
    "rf_class = RandomForestClassifier(n_estimators = 100, random_state = 147)\n",
    "gb_class = GradientBoostingClassifier(n_estimators = 100, random_state = 147)"
   ]
  },
  {
   "cell_type": "code",
   "execution_count": 4,
   "metadata": {
    "collapsed": false
   },
   "outputs": [],
   "source": [
    "#creation of matrix of features\n",
    "X_lr = scaler.fit_transform(df.iloc[:,:190].fillna(0).values)\n",
    "X_tr = df.iloc[:,:190].fillna(1e10).values\n",
    "y = df['Churn'].values"
   ]
  },
  {
   "cell_type": "code",
   "execution_count": 13,
   "metadata": {
    "collapsed": false,
    "scrolled": true
   },
   "outputs": [
    {
     "name": "stdout",
     "output_type": "stream",
     "text": [
      "roc_auc 0.626258172498 0.656112126021 0.719104194345\n",
      "recall 0.0020987253962 0.000420168067227 0.00210084033613\n"
     ]
    },
    {
     "name": "stderr",
     "output_type": "stream",
     "text": [
      "//anaconda/lib/python3.5/site-packages/sklearn/metrics/classification.py:1113: UndefinedMetricWarning: Precision is ill-defined and being set to 0.0 due to no predicted samples.\n",
      "  'precision', 'predicted', average, warn_for)\n",
      "//anaconda/lib/python3.5/site-packages/sklearn/metrics/classification.py:1113: UndefinedMetricWarning: Precision is ill-defined and being set to 0.0 due to no predicted samples.\n",
      "  'precision', 'predicted', average, warn_for)\n"
     ]
    },
    {
     "name": "stdout",
     "output_type": "stream",
     "text": [
      "precision 0.144230769231 0.125 0.211111111111\n",
      "accuracy 0.924718749415 0.925531261136 0.925125018947\n"
     ]
    }
   ],
   "source": [
    "#metrics calculation\n",
    "scores = ['roc_auc', 'recall', 'precision', 'accuracy']\n",
    "for score in scores:\n",
    "    lr_score = np.mean(cross_val_score(lr_class, X_lr, y, cv = skf, scoring = score))\n",
    "    rf_score = np.mean(cross_val_score(rf_class, X_tr, y, cv = skf, scoring = score))\n",
    "    gb_score = np.mean(cross_val_score(gb_class, X_tr, y, cv = skf, scoring = score))\n",
    "    print(score, lr_score, rf_score, gb_score)"
   ]
  },
  {
   "cell_type": "code",
   "execution_count": 18,
   "metadata": {
    "collapsed": false
   },
   "outputs": [
    {
     "name": "stdout",
     "output_type": "stream",
     "text": [
      "accuracy of major class classifier: \n",
      "-1    0.925594\n",
      " 1    0.074406\n",
      "Name: Churn, dtype: float64\n"
     ]
    }
   ],
   "source": [
    "print('accuracy of major class classifier: \\n' + str(df['Churn'].value_counts() / len(df)))"
   ]
  },
  {
   "cell_type": "markdown",
   "metadata": {},
   "source": [
    "Выводы:\n",
    "* Было построено три базовых решения, с использованием логистической регрессии, случайного леса и градиентного бустинга\n",
    "* С точки зрения accuracy, полученные решения даже хуже классификации большим классом\n",
    "* У нас получены очень низкие значения precision и recall, с точки зрения бизнеса, нам позволяют увеличить прибыль только правильные предсказания, если клиент разрывает контракт, а мы не предпринимаем мер по его удержанию (случай False Negative), то мы теряем прибыль, если мы предпринимаем меры по удержанию клиента, который не склонен разрывать контракт (случай False Positive), то мы тратим лишние деньги на его удержание.\n",
    "* С точки зрения AUC ROC, лучшим является метод градиентного бустинга, precision и recall в данном случае также самые высокие \n",
    "* Базовые алгоритмы нуждаются в улучшении: добавление и обработка категориальных признаков, иная обработка пропущенных значений, регуляризация (в случае логистической регрессии), увеличение числа деревьв и т.д."
   ]
  },
  {
   "cell_type": "code",
   "execution_count": null,
   "metadata": {
    "collapsed": true
   },
   "outputs": [],
   "source": []
  }
 ],
 "metadata": {
  "anaconda-cloud": {},
  "kernelspec": {
   "display_name": "Python [conda root]",
   "language": "python",
   "name": "conda-root-py"
  },
  "language_info": {
   "codemirror_mode": {
    "name": "ipython",
    "version": 3
   },
   "file_extension": ".py",
   "mimetype": "text/x-python",
   "name": "python",
   "nbconvert_exporter": "python",
   "pygments_lexer": "ipython3",
   "version": "3.5.3"
  }
 },
 "nbformat": 4,
 "nbformat_minor": 1
}
