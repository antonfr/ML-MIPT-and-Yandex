{
 "cells": [
  {
   "cell_type": "markdown",
   "metadata": {},
   "source": [
    "# Экономический эффект"
   ]
  },
  {
   "cell_type": "markdown",
   "metadata": {},
   "source": [
    "Теперь время оценить экономическую эффективность модели. В связи с большой несбалансированностью выборки, в зависимости от того, был ли применен oversampling или нет, можно столкнуться с двумя проблемами:\n",
    "* Если используется несбалансированная выборка, то очень большое число False Negative, и recall на уровне 1 процента.\n",
    "* Если используется сбалансированная выборка, то очень большое число False Positive (их число может даже превышать число True Negative), и precision на уровне 10 процентов.\n",
    "\n",
    "Оба варианты не очень хороши, так как если мы не распознаем склонного к оттоку клиента, то, не предпринимая попыток его удержания, мы его потеряем, и прибыль уменьшится. Если же мы считаем, что клиент склонен разорвать контракт, в то время когда он лоялен, то мы тратим впустую деньги на его удержание, и прибыль тоже соответственно уменьшится. Понятно, что потерянный клиент нам обходится дороже, чем удержание лояльного, но вместе с тем клиентов, готовых разорвать контракт, не так уж и много, порядка 7.5 процентов, и если классификатор слишком оптимистичен, то мы будем считать слишком многих клиентов склонными к разрыву контракта и  тратить слишком много на их удержание, и потери от этого могут быть больше, чем считать вообще всех клиентов лояльными. \n",
    "\n",
    "Из этого следует, что в данном случае нас интересуют не столько разные метрики качества классификации, сколько их экономический эффект. Измерять его мы будем как разницу между случаем, когда все клиенты считаются лояльными, и результатом классификатора. Для упрощения будем считать, что ежемесячная абонплата одинакова для всех клиентов.\n",
    "\n",
    "Пусть мы считаем всех клиентов лояльными, и не вообще не занимаемся их удержанием. Допустим, что число склонных к оттоку клиентов в выборке равно $k$, тогда наши потери составляют $L = -kb$ евро, где $b$ - это ежемесячная абонплата. \n",
    "\n",
    "Теперь рассмотрим случай с применением классификатора, пусть $r$ - стоимость удержания, $p$ - вероятность того, что клиент, склонный к оттоку, примет наше предложение, $k_1$ - количество False Negative, $l$ - количество False Positive. Тогда наши потери составляют:\n",
    "$$L_{class} = p(k - k_1)(b - r) - rl - k_1b - (1 - p)(k - k_1)b$$\n",
    "\n",
    "Очевидно, что наш классификатор имеет экономический смысл, если $L_{class} > L$. Далее для классификатора можно подобрать оптимальную вероятность, начиная с которой мы считаем клиента склонным к оттоку, которая минимизирует наши потери. Но далее мы будем использовать и немного другой вариант оптимизации: рассматривать только клиентов с самой высокой вероятностью оттока (например 5 процентов от всей выборки), и считать экономическую целесообразность для них. Ниже построим оптимальную модель, выбранную на прошлой неделе."
   ]
  },
  {
   "cell_type": "code",
   "execution_count": 1,
   "metadata": {
    "collapsed": true
   },
   "outputs": [],
   "source": [
    "import pandas as pd\n",
    "import numpy as np\n",
    "from sklearn.preprocessing import Imputer, LabelEncoder, OneHotEncoder, StandardScaler\n",
    "from sklearn.model_selection import StratifiedKFold, cross_val_score, GridSearchCV, learning_curve, train_test_split\n",
    "from sklearn.metrics import accuracy_score, recall_score, precision_score, f1_score, confusion_matrix, roc_auc_score\n",
    "from sklearn.ensemble import GradientBoostingClassifier\n",
    "from sklearn.linear_model import LogisticRegression\n",
    "from sklearn.feature_selection import SelectFromModel\n",
    "from sklearn.utils import shuffle\n",
    "from random import sample\n",
    "import matplotlib.pyplot as plt\n",
    "import warnings\n",
    "warnings.filterwarnings('ignore')\n",
    "%matplotlib inline"
   ]
  },
  {
   "cell_type": "code",
   "execution_count": 3,
   "metadata": {
    "collapsed": true
   },
   "outputs": [],
   "source": [
    "le = LabelEncoder()\n",
    "ohe = OneHotEncoder()\n",
    "df = pd.read_csv('train_churn.csv', header = 0)\n",
    "df_test = pd.read_csv('test_churn.csv', header = 0)\n",
    "\n",
    "def feature_matrix(df, df_test, na_val, max_cat, n_num = 190, na_cat = 'na', label = 'Churn'):\n",
    "    df_all = pd.concat([df, df_test])\n",
    "    df_all = df_all.iloc[:,n_num:].dropna(axis = 1, how = 'all').fillna(na_cat)\n",
    "    cat_columns = df_all.columns\n",
    "    cat_sorted = df_all.drop(label, axis = 1).describe().iloc[1,:].sort_values()\n",
    "    \n",
    "    df_num = df.iloc[:,:n_num].dropna(axis = 1, how = 'all')\n",
    "    df_test_num = df_test.iloc[:,:n_num].dropna(axis = 1, how = 'all')    \n",
    "    for feature in df_num.columns:\n",
    "        df_num['Sq'+feature] = df_num[feature] ** 2\n",
    "        df_test_num['Sq'+feature] = df_test_num[feature] ** 2\n",
    "    if na_val in ['mean', 'median', 'most_frequent']:\n",
    "        imputer = Imputer(strategy = na_val)\n",
    "        X_num = df_num.values\n",
    "        X_num = imputer.fit_transform(X_num)\n",
    "        X_test_num = df_test_num.values\n",
    "        X_test_num = imputer.transform(X_test_num)\n",
    "    else:\n",
    "        X_num = df_num.fillna(na_val).values\n",
    "        X_test_num = df_test_num.fillna(na_val).values\n",
    "        \n",
    "    df_cat = df.iloc[:,n_num:]\n",
    "    df_cat.fillna(na_cat, inplace = True)\n",
    "    df_test_cat = df_test.iloc[:,n_num:]\n",
    "    df_test_cat.fillna(na_cat, inplace = True)\n",
    "    \n",
    "    df_part = df_cat[list(cat_sorted[cat_sorted > max_cat].index)]\n",
    "    df_test_part = df_test_cat[list(cat_sorted[cat_sorted > max_cat].index)]\n",
    "    for feature in df_part.columns:\n",
    "        df_part[feature] = df_part[feature].map(df_part.groupby(feature).size()) / len(df_part)\n",
    "        df_test_part[feature] = df_test_part[feature].map(df_test_part.groupby(feature).size()) / len(df_test_part)\n",
    "    \n",
    "    X_part = df_part.values\n",
    "    X_train = np.concatenate((X_num, X_part), axis = 1)\n",
    "    y_train = df[label].values\n",
    "    X_test_part = df_test_part.values\n",
    "    X_test = np.concatenate((X_test_num, X_test_part), axis = 1)\n",
    "    y_test = df_test[label].values\n",
    "    \n",
    "    if max_cat >= 2:\n",
    "        df_all = df_all[list(cat_sorted[cat_sorted <= max_cat].index)]\n",
    "        df_ohe = df_cat[list(cat_sorted[cat_sorted <= max_cat].index)]\n",
    "        df_test_ohe = df_test_cat[list(cat_sorted[cat_sorted <= max_cat].index)]\n",
    "        for feature in df_all.columns:\n",
    "            df_all[feature] = le.fit_transform(df_all[feature].values)\n",
    "            df_ohe[feature] = le.transform(df_ohe[feature].values)\n",
    "            df_test_ohe[feature] = le.transform(df_test_ohe[feature].values)\n",
    "        X_ohe = ohe.fit_transform(df_ohe.values)\n",
    "        X_test_ohe = ohe.transform(df_test_ohe.values)\n",
    "        X_train = np.concatenate((X_train, X_ohe.toarray()), axis = 1)\n",
    "        X_test = np.concatenate((X_test, X_test_ohe.toarray()), axis = 1)\n",
    "    return(X_train, y_train, X_test, y_test)"
   ]
  },
  {
   "cell_type": "code",
   "execution_count": 4,
   "metadata": {
    "collapsed": false
   },
   "outputs": [],
   "source": [
    "df_c = df[df['Churn'] == 1]\n",
    "np.random.seed(147)\n",
    "df_3c = shuffle(pd.concat([df, df_c, df_c]))\n",
    "X_train, y_train, X_test, y_test = feature_matrix(df_3c, df_test, na_val = 'mean', max_cat = 30)\n",
    "X_val, X_test, y_val, y_test = train_test_split(X_test, y_test, test_size = 0.5, stratify = y_test, random_state = 147)"
   ]
  },
  {
   "cell_type": "code",
   "execution_count": 5,
   "metadata": {
    "collapsed": false
   },
   "outputs": [
    {
     "name": "stdout",
     "output_type": "stream",
     "text": [
      "(36762, 65) (36762, 566)\n"
     ]
    }
   ],
   "source": [
    "gb_class = GradientBoostingClassifier(random_state = 147)\n",
    "gb_class.fit(X_train, y_train)\n",
    "model = SelectFromModel(gb_class, prefit = True)\n",
    "X_train_fm = model.transform(X_train)\n",
    "print(X_train_fm.shape, X_train.shape)"
   ]
  },
  {
   "cell_type": "code",
   "execution_count": 6,
   "metadata": {
    "collapsed": true
   },
   "outputs": [],
   "source": [
    "gb_opt = GradientBoostingClassifier(n_estimators = 147, max_depth = 4, max_features = 'sqrt', random_state = 147)\n",
    "gb_opt.fit(X_train_fm, y_train)\n",
    "X_val_fm = model.transform(X_val)\n",
    "y_pred = gb_opt.predict(X_val_fm)\n",
    "y_proba = gb_opt.predict_proba(X_val_fm)[:,1]"
   ]
  },
  {
   "cell_type": "markdown",
   "metadata": {},
   "source": [
    "Тут мы воспроизводим оптимальную модель из прошлой недели, только в данном случае разделяем тестовый сет на два: на одном, валидационном, мы будем подбирать оптимальные параметры модели, на втором, тестовом, давать окончательную оценку модели. "
   ]
  },
  {
   "cell_type": "code",
   "execution_count": 7,
   "metadata": {
    "collapsed": false
   },
   "outputs": [
    {
     "data": {
      "text/plain": [
       "-1    3702\n",
       " 1     298\n",
       "Name: Churn, dtype: int64"
      ]
     },
     "execution_count": 7,
     "metadata": {},
     "output_type": "execute_result"
    }
   ],
   "source": [
    "y_df = pd.DataFrame(y_val, columns = ['Churn'])\n",
    "y_df['Probability'] = y_proba\n",
    "y_df = y_df.sort_values('Probability', ascending = False)\n",
    "y_df['Churn'].value_counts()"
   ]
  },
  {
   "cell_type": "markdown",
   "metadata": {},
   "source": [
    "Мы построили датасет из истинной принадлежности класса и вероятность принадлежности к классу отток классификатором, отсортированную по убыванию. Будем считать, что клиент приносит нам доход в 50 евро, если он разрывает контракт, то мы 50 евро теряем. Затраты на удержание равны 10 евро (допустим в целях удержания мы предлагаем ему скидку на абонплату в 10 евро, которую он принимает с вероятностью 0.8), если мы верно распознаем клиента, склонного к разрыву контракта, то мы получаем доход в 40 евро с вероятностью 0.8 и теряем 50 евро с вероятностью 0.2, если вы неверно распознаем клиента, то мы тратим 10 евро на удержание лояльного клиента. Всего в данной валидационной выборке 298 клиентов, склонных к оттоку, если мы не приложим никаких усилий для их удержания, то мы потеряем $298 \\times -50 = -14900$ евро. Как было сказано, классификатор будем считать хорошим, если в результате его применения потери составят менее вышеназванной суммы. \n",
    "\n",
    "Ниже представлена функция, подсчитывающая выгоду от применения классификатора, мы задаем какой процент от общего числа наблюдений с наибольшей вероятностью оттока мы выбираем (percent), доход от клиента (b), вероятность, что он примет наше предложение (p для клиента склонного к оттоку, 1 для лояльного клиента), стоимость удержания (r) и вероятность, начиная с которой мы считаем клиента склонным к оттоку (one_proba). Меняя параметры one_proba и percent, можно выбрать также менять стратегию: либо мы удерживанием только определенное число клиентов, либо всех клиентов, с вероятностью оттока выше определенного уровня."
   ]
  },
  {
   "cell_type": "code",
   "execution_count": 8,
   "metadata": {
    "collapsed": false
   },
   "outputs": [],
   "source": [
    "def profit_count(df, percent, one_proba = 0.5, b = 50, p = 0.8, r = 10, label = 'Churn', proba = 'Probability'):\n",
    "    len_top = int(percent * len(df))\n",
    "    len_one_proba = np.where(df[proba] >= one_proba)[0][-1] + 1\n",
    "    df_high = df.iloc[:min(len_top, len_one_proba), :]\n",
    "    df_low = df.iloc[min(len_top, len_one_proba):, :]\n",
    "    b_offer = np.array(df_high[label].value_counts())[1] * (b - r) * p\n",
    "    l_offer_fn = np.array(df_high[label].value_counts())[1] * b * (1 - p)\n",
    "    l_offer_fp = np.array(df_high[label].value_counts())[0] * r \n",
    "    l_notpred = np.array(df_low[label].value_counts())[1] * b \n",
    "    loss = b_offer - l_offer_fn - l_offer_fp - l_notpred\n",
    "    total_loss = -np.array(df[label].value_counts())[1] * b\n",
    "    return(loss - total_loss)"
   ]
  },
  {
   "cell_type": "code",
   "execution_count": 65,
   "metadata": {
    "collapsed": false
   },
   "outputs": [
    {
     "name": "stdout",
     "output_type": "stream",
     "text": [
      "584.0 824.0 800.0\n"
     ]
    }
   ],
   "source": [
    "print(profit_count(y_df, 0.01, one_proba = 0.06), \n",
    "      profit_count(y_df, 0.25, one_proba = 0.06), \n",
    "      profit_count(y_df, 0.99, one_proba = 0.50))"
   ]
  },
  {
   "cell_type": "markdown",
   "metadata": {},
   "source": [
    "1) Мы протестировали три подхода:\n",
    "* удержание 1% клиентов с самой высокой вероятностью оттока\n",
    "* удержание 25% клиентов с самой высокой вероятность оттока\n",
    "* удержание клиентов с вероятностью оттока более 50%\n",
    "\n",
    "Мы видим, что больше всего нам позволяет выиграть удержание 25% клиентов. Ниже мы найдем, какой топ клиентов и какая вероятность оптимальны."
   ]
  },
  {
   "cell_type": "code",
   "execution_count": 9,
   "metadata": {
    "collapsed": false
   },
   "outputs": [
    {
     "name": "stdout",
     "output_type": "stream",
     "text": [
      "1638.0 0.07\n"
     ]
    }
   ],
   "source": [
    "percents = np.arange(0.01, 0.51, 0.01)\n",
    "benefits = []\n",
    "for percent in percents:\n",
    "    benefits.append(profit_count(y_df, percent, one_proba = 0.06))\n",
    "print(max(benefits), percents[np.argmax(benefits)])"
   ]
  },
  {
   "cell_type": "code",
   "execution_count": 10,
   "metadata": {
    "collapsed": false
   },
   "outputs": [
    {
     "data": {
      "image/png": "[encoded data removed]",
      "text/plain": [
       "<matplotlib.figure.Figure at 0x11564bc88>"
      ]
     },
     "metadata": {},
     "output_type": "display_data"
    }
   ],
   "source": [
    "plt.plot(percents, benefits, 'o')\n",
    "plt.xlabel('Top clients')\n",
    "plt.ylabel('Profit')\n",
    "plt.xlim(0, 0.52)\n",
    "#plt.ylim(0.929, 0.93)\n",
    "plt.title('Profits using top method for strategy 1')\n",
    "plt.show()"
   ]
  },
  {
   "cell_type": "code",
   "execution_count": 11,
   "metadata": {
    "collapsed": false
   },
   "outputs": [
    {
     "name": "stdout",
     "output_type": "stream",
     "text": [
      "1670.0 0.67\n"
     ]
    }
   ],
   "source": [
    "probas = np.arange(0.35, 0.86, 0.01)\n",
    "benefits = []\n",
    "for proba in probas:\n",
    "    benefits.append(profit_count(y_df, percent = 0.99, one_proba = proba))\n",
    "print(max(benefits), probas[np.argmax(benefits)])"
   ]
  },
  {
   "cell_type": "code",
   "execution_count": 12,
   "metadata": {
    "collapsed": false
   },
   "outputs": [
    {
     "data": {
      "image/png": "[encoded data removed]",
      "text/plain": [
       "<matplotlib.figure.Figure at 0x115670da0>"
      ]
     },
     "metadata": {},
     "output_type": "display_data"
    }
   ],
   "source": [
    "plt.plot(probas, benefits, 'o')\n",
    "plt.xlabel('Probability')\n",
    "plt.ylabel('Profit')\n",
    "plt.xlim(0.34, 0.87)\n",
    "#plt.ylim(0.929, 0.93)\n",
    "plt.title('Profits using probability for strategy 1')\n",
    "plt.show()"
   ]
  },
  {
   "cell_type": "markdown",
   "metadata": {},
   "source": [
    "2) Мы проверили, какой топ и какую вероятность лучше использовать. Как видно выше, максимизирует прибыль удержание 67% наиболее склонных к оттоку клиентов. На валидационной выборке нам это позволило сэкономить почти 1670 евро."
   ]
  },
  {
   "cell_type": "markdown",
   "metadata": {},
   "source": [
    "3) Усложим немного нашу модель, допустим, что мы предлагаем клиенту, которого посчитали склонным к оттоку, не одно предложение для удержания, а два:\n",
    "* прежнее, скидка 10 евро (r1) в месяц, вероятность, что клиент пример это предложение 0.7 (p1)\n",
    "* новое, дополнительные услуги за ту же плату, например бесплатные звонки в другие страны или увеличенное число гигабайт интернет трафика. При этом стоимость удержания меньше, например 5 евро (r2). Вероятность, что это предложение примет клиент, склонный к оттоку, равна 0.1 (p2), а лояльный клиент 0.3 (1-p1)\n",
    "\n",
    "При этом клиент может выбрать только одно предложение из двух. Ниже представлена функция, подсчитывающая экономию в данном случае и подобраны оптимальные варианты топа и минимальной вероятности."
   ]
  },
  {
   "cell_type": "code",
   "execution_count": 13,
   "metadata": {
    "collapsed": true
   },
   "outputs": [],
   "source": [
    "def profit_count2(df, percent, one_proba = 0.5, b = 50, p1 = 0.7, p2 = 0.1, r1 = 10, r2 = 5, \n",
    "                  label = 'Churn', proba = 'Probability'):\n",
    "    len_top = int(percent * len(df))\n",
    "    len_one_proba = np.where(df[proba] >= one_proba)[0][-1] + 1\n",
    "    df_high = df.iloc[:min(len_top, len_one_proba), :]\n",
    "    df_low = df.iloc[min(len_top, len_one_proba):, :]\n",
    "    b_offer1 = np.array(df_high[label].value_counts())[1] * (b - r1) * p1\n",
    "    b_offer2 = np.array(df_high[label].value_counts())[1] * (b - r2) * p2\n",
    "    l_offer_fn = np.array(df_high[label].value_counts())[1] * b * (1 - p1 - p2)\n",
    "    l_offer1_fp = np.array(df_high[label].value_counts())[0] * r1 * p1\n",
    "    l_offer2_fp = np.array(df_high[label].value_counts())[0] * r2 * (1-p1)\n",
    "    l_notpred = np.array(df_low[label].value_counts())[1] * b\n",
    "    loss = b_offer1 + b_offer2 - l_offer_fn - l_offer1_fp  - l_offer2_fp - l_notpred\n",
    "    total_loss = -np.array(df[label].value_counts())[1] * b\n",
    "    return(loss - total_loss)"
   ]
  },
  {
   "cell_type": "code",
   "execution_count": 56,
   "metadata": {
    "collapsed": false
   },
   "outputs": [
    {
     "name": "stdout",
     "output_type": "stream",
     "text": [
      "632.0 2192.0 2262.0\n"
     ]
    }
   ],
   "source": [
    "print(profit_count2(y_df, 0.01, one_proba = 0.06), \n",
    "      profit_count2(y_df, 0.25, one_proba = 0.06), \n",
    "      profit_count2(y_df, 0.99, one_proba = 0.50))"
   ]
  },
  {
   "cell_type": "markdown",
   "metadata": {},
   "source": [
    "Видим, что данный подход позволил нам больше сэкономить, чем просто скидка на абонплату. При этом в отличие от предыдущего случая, оптимальным является выбор всех клиентов с вероятностью оттока более 50%. Посчитаем теперь оптимальный топ и вероятность. "
   ]
  },
  {
   "cell_type": "code",
   "execution_count": 14,
   "metadata": {
    "collapsed": false
   },
   "outputs": [
    {
     "name": "stdout",
     "output_type": "stream",
     "text": [
      "2338.0 0.26\n"
     ]
    }
   ],
   "source": [
    "percents = np.arange(0.01, 0.51, 0.01)\n",
    "benefits = []\n",
    "for percent in percents:\n",
    "    benefits.append(profit_count2(y_df, percent, one_proba = 0.06))\n",
    "print(max(benefits), percents[np.argmax(benefits)])"
   ]
  },
  {
   "cell_type": "code",
   "execution_count": 15,
   "metadata": {
    "collapsed": false
   },
   "outputs": [
    {
     "data": {
      "image/png": "[encoded data removed]",
      "text/plain": [
       "<matplotlib.figure.Figure at 0x114ea7a90>"
      ]
     },
     "metadata": {},
     "output_type": "display_data"
    }
   ],
   "source": [
    "plt.plot(percents, benefits, 'o')\n",
    "plt.xlabel('Top clients')\n",
    "plt.ylabel('Profit')\n",
    "plt.xlim(0, 0.52)\n",
    "#plt.ylim(0.929, 0.93)\n",
    "plt.title('Profits using top method for strategy 2')\n",
    "plt.show()"
   ]
  },
  {
   "cell_type": "code",
   "execution_count": 16,
   "metadata": {
    "collapsed": false
   },
   "outputs": [
    {
     "name": "stdout",
     "output_type": "stream",
     "text": [
      "2405.0 0.54\n"
     ]
    }
   ],
   "source": [
    "probas = np.arange(0.35, 0.86, 0.01)\n",
    "benefits = []\n",
    "for proba in probas:\n",
    "    benefits.append(profit_count2(y_df, percent = 0.99, one_proba = proba))\n",
    "print(max(benefits), probas[np.argmax(benefits)])"
   ]
  },
  {
   "cell_type": "code",
   "execution_count": 17,
   "metadata": {
    "collapsed": false
   },
   "outputs": [
    {
     "data": {
      "image/png": "[encoded data removed]",
      "text/plain": [
       "<matplotlib.figure.Figure at 0x1149270b8>"
      ]
     },
     "metadata": {},
     "output_type": "display_data"
    }
   ],
   "source": [
    "plt.plot(probas, benefits, 'o')\n",
    "plt.xlabel('Probability')\n",
    "plt.ylabel('Profit')\n",
    "plt.xlim(0.34, 0.87)\n",
    "#plt.ylim(0.929, 0.93)\n",
    "plt.title('Profits using probability for strategy 2')\n",
    "plt.show()"
   ]
  },
  {
   "cell_type": "code",
   "execution_count": 85,
   "metadata": {
    "collapsed": false
   },
   "outputs": [
    {
     "name": "stdout",
     "output_type": "stream",
     "text": [
      "2388.0\n"
     ]
    }
   ],
   "source": [
    "y_df_test = pd.DataFrame(y_test, columns = ['Churn'])\n",
    "y_df_test['Probability'] = gb_opt.predict_proba(model.transform(X_test))[:,1] \n",
    "y_df_test = y_df_test.sort_values('Probability', ascending = False)\n",
    "print(profit_count2(y_df_test, percent = 0.99, one_proba = 0.54))"
   ]
  },
  {
   "cell_type": "markdown",
   "metadata": {},
   "source": [
    "Оптимально использовать всех клиентов, с вероятностью оттока 54%. При этом, экономия на тестовой выборке составляет 2388 евро, всего лишь немногим меньше чем на валидационной.\n",
    "\n",
    "Примечание: в следующих вопросах для простоты мы будем рассматривать первую модель, как более наглядную. "
   ]
  },
  {
   "cell_type": "markdown",
   "metadata": {},
   "source": [
    "4) Применение модели не всегда экономически оправдано. Очевидно, что если мы зададим слишком большой топ или слишком маленькую вероятность, то большое число False Positive нивелирует полноту предсказаний склонных к оттоку клиентов. Также высокая стоимость удержания и/или низкая вероятность принятия нашего предложения склонным к оттоку клиентом снижает экономическую целесообразность модели. "
   ]
  },
  {
   "cell_type": "code",
   "execution_count": 52,
   "metadata": {
    "collapsed": false
   },
   "outputs": [
    {
     "name": "stdout",
     "output_type": "stream",
     "text": [
      "-2817.5\n"
     ]
    }
   ],
   "source": [
    "print(profit_count(y_df, 0.1, b = 40, p = 0.5, r = 15))"
   ]
  },
  {
   "cell_type": "markdown",
   "metadata": {},
   "source": [
    "Мы видим, что выбрав 10% наиболее склонных к оттоку клиентов, и положив прибыль равной 40 евро, стоимость удержания 15 евро и вероятность принятия предложения 50%, мы остаемся в убытке и использование модели нецелесообразно."
   ]
  },
  {
   "cell_type": "markdown",
   "metadata": {},
   "source": [
    "5) Рассмотрим в качестве метрики Recall. Если мы верно классифицируем клиента, склонного к оттоку, то мы вместо потери 50 евро зарабатываем на нем $40 \\times 0.8 = 32$, то есть верная классификация такого клиента стоит 82 евро. В нашей валидационной выборке примерно 3700 лояльных клиентов и 300 склонных к оттоку. Таким образом увеличение Recall на один процент соответствует росту прибыли на $300 \\times 0.01 \\times 90 \\times 0.8 = 216$ евро. В свою очередь увеление Recall на три процента соответствуют росту прибыли на 648 евро. В общем случае влияние на прибыль изменения Recall на $\\Delta$ считается по формуле:\n",
    "$$\\Delta_{recall} = k \\times \\Delta \\times p \\times (2b - r) $$\n",
    "\n",
    "Примечание: в данном случае мы считаем, что изменяем только Recall, количество же True Negative и False Positive остается неизменным. Это важно, так как несложно посчитать, что увеличение True Negative на один процент об общего числа позволяет сэкономить больше при данных параметрах (а если быть точным то $3700 * 0.01 * 10 = 370$)."
   ]
  },
  {
   "cell_type": "markdown",
   "metadata": {},
   "source": [
    "6) Вложение средств в улучшение качества модели является экономически оправданным. Как было сказано выше для валидационного датасета, отнесение всех клиентов к лояльным приносит убытки в 14900 евро. В тоже время, при идеальном классификаторе, разница составит $14900 + 298 \\times 40 \\times 0.8 - 298 \\times 50 \\times 0.2 = 21456$ евро. Экономия от использования текущей модели 2388 евро, почти в 9 раз меньше. Естественно построение такой модели нереально, данные слишком разреженные и сильно несбалансированные. Но учитывая, что реальная абонентская база Orange составляет порядка 40 миллионов абонентов, то получаем, что улучшение модели на 100 евро на нашем тестовом датасете в 4000 наблюдений соответствует ежемесячной экономии 1 миллиона евро на всей абонентской базе. Немного упрощенно конечно, но наглядно, что даже небольшое улучшение соответствует немалой экономии. "
   ]
  },
  {
   "cell_type": "code",
   "execution_count": null,
   "metadata": {
    "collapsed": true
   },
   "outputs": [],
   "source": []
  }
 ],
 "metadata": {
  "anaconda-cloud": {},
  "kernelspec": {
   "display_name": "Python [conda root]",
   "language": "python",
   "name": "conda-root-py"
  },
  "language_info": {
   "codemirror_mode": {
    "name": "ipython",
    "version": 3
   },
   "file_extension": ".py",
   "mimetype": "text/x-python",
   "name": "python",
   "nbconvert_exporter": "python",
   "pygments_lexer": "ipython3",
   "version": "3.5.3"
  }
 },
 "nbformat": 4,
 "nbformat_minor": 1
}
